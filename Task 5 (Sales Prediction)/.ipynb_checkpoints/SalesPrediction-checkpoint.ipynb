{
 "cells": [
  {
   "cell_type": "markdown",
   "id": "50a57140-c65c-4508-824e-8543eb880e63",
   "metadata": {},
   "source": [
    "## Sales Prediction\n",
    "## Vidul Garg"
   ]
  },
  {
   "cell_type": "markdown",
   "id": "571da942-3649-42c6-bc9f-7756561f7784",
   "metadata": {},
   "source": [
    "\r\n",
    "Sales prediction means predicting how much of a product people will buy based on factors\r\n",
    "such as the amount you spend to advertise your product, the segment of people you\r\n",
    "advertise for, or the platform you are advertising on about your product.uct."
   ]
  },
  {
   "cell_type": "code",
   "execution_count": 2,
   "id": "4bd2c02c-caa1-4f3f-9727-2803f38ca4c6",
   "metadata": {},
   "outputs": [],
   "source": [
    "import pandas as pd\n",
    "import numpy as np\n",
    "import matplotlib.pyplot as plt\n",
    "import seaborn as sns"
   ]
  },
  {
   "cell_type": "code",
   "execution_count": null,
   "id": "3555cfdc-b47b-4a12-8edb-0f7c544937db",
   "metadata": {},
   "outputs": [],
   "source": [
    "df=pd.read_csv(r\"\")"
   ]
  }
 ],
 "metadata": {
  "kernelspec": {
   "display_name": "Python 3 (ipykernel)",
   "language": "python",
   "name": "python3"
  },
  "language_info": {
   "codemirror_mode": {
    "name": "ipython",
    "version": 3
   },
   "file_extension": ".py",
   "mimetype": "text/x-python",
   "name": "python",
   "nbconvert_exporter": "python",
   "pygments_lexer": "ipython3",
   "version": "3.11.4"
  }
 },
 "nbformat": 4,
 "nbformat_minor": 5
}
